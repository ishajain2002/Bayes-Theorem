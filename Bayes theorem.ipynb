{
 "cells": [
  {
   "cell_type": "markdown",
   "id": "06104726",
   "metadata": {},
   "source": [
    "<!-- bayes theorem\n",
    "  P(absent/Friday)=P(Friday|Absent)P(Absent)/P(Friday)\n",
    "P(Friday/Absent)=P(Friday intersention Absent)/P(absent)->"
   ]
  },
  {
   "cell_type": "code",
   "execution_count": 1,
   "id": "054d66f1",
   "metadata": {},
   "outputs": [],
   "source": [
    "probAbsentFriday=0.03"
   ]
  },
  {
   "cell_type": "code",
   "execution_count": 2,
   "id": "ae87d979",
   "metadata": {},
   "outputs": [],
   "source": [
    "probFriday=0.2"
   ]
  },
  {
   "cell_type": "code",
   "execution_count": 3,
   "id": "023f84fa",
   "metadata": {},
   "outputs": [],
   "source": [
    "Bayesresult=(probAbsentFriday/probFriday)"
   ]
  },
  {
   "cell_type": "code",
   "execution_count": 4,
   "id": "97727446",
   "metadata": {},
   "outputs": [
    {
     "name": "stdout",
     "output_type": "stream",
     "text": [
      "15.0\n"
     ]
    }
   ],
   "source": [
    "print(Bayesresult*100)"
   ]
  },
  {
   "cell_type": "code",
   "execution_count": null,
   "id": "6d3ffb17",
   "metadata": {},
   "outputs": [],
   "source": []
  }
 ],
 "metadata": {
  "kernelspec": {
   "display_name": "Python 3 (ipykernel)",
   "language": "python",
   "name": "python3"
  },
  "language_info": {
   "codemirror_mode": {
    "name": "ipython",
    "version": 3
   },
   "file_extension": ".py",
   "mimetype": "text/x-python",
   "name": "python",
   "nbconvert_exporter": "python",
   "pygments_lexer": "ipython3",
   "version": "3.10.2"
  }
 },
 "nbformat": 4,
 "nbformat_minor": 5
}
